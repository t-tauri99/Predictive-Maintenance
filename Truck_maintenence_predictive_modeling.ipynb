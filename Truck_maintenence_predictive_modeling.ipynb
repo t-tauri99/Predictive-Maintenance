{
  "cells": [
    {
      "cell_type": "markdown",
      "metadata": {
        "id": "I58yaLOLRaFp"
      },
      "source": [
        "Importing the necessary libraries"
      ]
    },
    {
      "cell_type": "code",
      "execution_count": null,
      "metadata": {
        "id": "ONvxvy3LRaFs"
      },
      "outputs": [],
      "source": [
        "import pandas as pd\n",
        "import numpy as np\n",
        "import matplotlib.pyplot as plt\n",
        "import seaborn as sns\n",
        "from sklearn.linear_model import LogisticRegression\n",
        "from sklearn.ensemble import RandomForestClassifier\n",
        "from sklearn.metrics import accuracy_score, confusion_matrix, classification_report\n",
        "from sklearn.preprocessing import MinMaxScaler, LabelEncoder, OneHotEncoder"
      ]
    },
    {
      "cell_type": "markdown",
      "metadata": {
        "id": "OgGTIk6WRaFt"
      },
      "source": [
        "Reading the dataset"
      ]
    },
    {
      "cell_type": "code",
      "execution_count": null,
      "metadata": {
        "id": "yVgcBl6URaFt",
        "outputId": "c28b93b3-bd94-4f75-8dfb-677078496c5e"
      },
      "outputs": [
        {
          "data": {
            "text/html": [
              "<div>\n",
              "<style scoped>\n",
              "    .dataframe tbody tr th:only-of-type {\n",
              "        vertical-align: middle;\n",
              "    }\n",
              "\n",
              "    .dataframe tbody tr th {\n",
              "        vertical-align: top;\n",
              "    }\n",
              "\n",
              "    .dataframe thead th {\n",
              "        text-align: right;\n",
              "    }\n",
              "</style>\n",
              "<table border=\"1\" class=\"dataframe\">\n",
              "  <thead>\n",
              "    <tr style=\"text-align: right;\">\n",
              "      <th></th>\n",
              "      <th>Vehicle_Model</th>\n",
              "      <th>Mileage</th>\n",
              "      <th>Maintenance_History</th>\n",
              "      <th>Reported_Issues</th>\n",
              "      <th>Vehicle_Age</th>\n",
              "      <th>Fuel_Type</th>\n",
              "      <th>Transmission_Type</th>\n",
              "      <th>Engine_Size</th>\n",
              "      <th>Odometer_Reading</th>\n",
              "      <th>Last_Service_Date</th>\n",
              "      <th>Warranty_Expiry_Date</th>\n",
              "      <th>Owner_Type</th>\n",
              "      <th>Insurance_Premium</th>\n",
              "      <th>Service_History</th>\n",
              "      <th>Accident_History</th>\n",
              "      <th>Fuel_Efficiency</th>\n",
              "      <th>Tire_Condition</th>\n",
              "      <th>Brake_Condition</th>\n",
              "      <th>Battery_Status</th>\n",
              "      <th>Need_Maintenance</th>\n",
              "    </tr>\n",
              "  </thead>\n",
              "  <tbody>\n",
              "    <tr>\n",
              "      <th>0</th>\n",
              "      <td>Truck</td>\n",
              "      <td>58765</td>\n",
              "      <td>Good</td>\n",
              "      <td>0</td>\n",
              "      <td>4</td>\n",
              "      <td>Electric</td>\n",
              "      <td>Automatic</td>\n",
              "      <td>2000</td>\n",
              "      <td>28524</td>\n",
              "      <td>2023-11-23</td>\n",
              "      <td>2025-06-24</td>\n",
              "      <td>Second</td>\n",
              "      <td>20782</td>\n",
              "      <td>6</td>\n",
              "      <td>3</td>\n",
              "      <td>13.622204</td>\n",
              "      <td>New</td>\n",
              "      <td>New</td>\n",
              "      <td>Weak</td>\n",
              "      <td>1</td>\n",
              "    </tr>\n",
              "    <tr>\n",
              "      <th>1</th>\n",
              "      <td>Van</td>\n",
              "      <td>60353</td>\n",
              "      <td>Average</td>\n",
              "      <td>1</td>\n",
              "      <td>7</td>\n",
              "      <td>Electric</td>\n",
              "      <td>Automatic</td>\n",
              "      <td>2500</td>\n",
              "      <td>133630</td>\n",
              "      <td>2023-09-21</td>\n",
              "      <td>2025-06-04</td>\n",
              "      <td>Second</td>\n",
              "      <td>23489</td>\n",
              "      <td>7</td>\n",
              "      <td>0</td>\n",
              "      <td>13.625307</td>\n",
              "      <td>New</td>\n",
              "      <td>New</td>\n",
              "      <td>Weak</td>\n",
              "      <td>1</td>\n",
              "    </tr>\n",
              "    <tr>\n",
              "      <th>2</th>\n",
              "      <td>Bus</td>\n",
              "      <td>68072</td>\n",
              "      <td>Poor</td>\n",
              "      <td>0</td>\n",
              "      <td>2</td>\n",
              "      <td>Electric</td>\n",
              "      <td>Automatic</td>\n",
              "      <td>1500</td>\n",
              "      <td>34022</td>\n",
              "      <td>2023-06-27</td>\n",
              "      <td>2025-04-27</td>\n",
              "      <td>First</td>\n",
              "      <td>17979</td>\n",
              "      <td>7</td>\n",
              "      <td>0</td>\n",
              "      <td>14.306302</td>\n",
              "      <td>New</td>\n",
              "      <td>Good</td>\n",
              "      <td>Weak</td>\n",
              "      <td>1</td>\n",
              "    </tr>\n",
              "    <tr>\n",
              "      <th>3</th>\n",
              "      <td>Bus</td>\n",
              "      <td>60849</td>\n",
              "      <td>Average</td>\n",
              "      <td>4</td>\n",
              "      <td>5</td>\n",
              "      <td>Petrol</td>\n",
              "      <td>Automatic</td>\n",
              "      <td>2500</td>\n",
              "      <td>81636</td>\n",
              "      <td>2023-08-24</td>\n",
              "      <td>2025-11-05</td>\n",
              "      <td>Second</td>\n",
              "      <td>6220</td>\n",
              "      <td>7</td>\n",
              "      <td>3</td>\n",
              "      <td>18.709467</td>\n",
              "      <td>New</td>\n",
              "      <td>Worn Out</td>\n",
              "      <td>New</td>\n",
              "      <td>1</td>\n",
              "    </tr>\n",
              "    <tr>\n",
              "      <th>4</th>\n",
              "      <td>Bus</td>\n",
              "      <td>45742</td>\n",
              "      <td>Poor</td>\n",
              "      <td>5</td>\n",
              "      <td>1</td>\n",
              "      <td>Petrol</td>\n",
              "      <td>Manual</td>\n",
              "      <td>2000</td>\n",
              "      <td>97162</td>\n",
              "      <td>2023-05-25</td>\n",
              "      <td>2025-09-14</td>\n",
              "      <td>Third</td>\n",
              "      <td>16446</td>\n",
              "      <td>6</td>\n",
              "      <td>2</td>\n",
              "      <td>16.977482</td>\n",
              "      <td>Good</td>\n",
              "      <td>Good</td>\n",
              "      <td>Weak</td>\n",
              "      <td>1</td>\n",
              "    </tr>\n",
              "  </tbody>\n",
              "</table>\n",
              "</div>"
            ],
            "text/plain": [
              "  Vehicle_Model  Mileage Maintenance_History  Reported_Issues  Vehicle_Age  \\\n",
              "0         Truck    58765                Good                0            4   \n",
              "1           Van    60353             Average                1            7   \n",
              "2           Bus    68072                Poor                0            2   \n",
              "3           Bus    60849             Average                4            5   \n",
              "4           Bus    45742                Poor                5            1   \n",
              "\n",
              "  Fuel_Type Transmission_Type  Engine_Size  Odometer_Reading  \\\n",
              "0  Electric         Automatic         2000             28524   \n",
              "1  Electric         Automatic         2500            133630   \n",
              "2  Electric         Automatic         1500             34022   \n",
              "3    Petrol         Automatic         2500             81636   \n",
              "4    Petrol            Manual         2000             97162   \n",
              "\n",
              "  Last_Service_Date Warranty_Expiry_Date Owner_Type  Insurance_Premium  \\\n",
              "0        2023-11-23           2025-06-24     Second              20782   \n",
              "1        2023-09-21           2025-06-04     Second              23489   \n",
              "2        2023-06-27           2025-04-27      First              17979   \n",
              "3        2023-08-24           2025-11-05     Second               6220   \n",
              "4        2023-05-25           2025-09-14      Third              16446   \n",
              "\n",
              "   Service_History  Accident_History  Fuel_Efficiency Tire_Condition  \\\n",
              "0                6                 3        13.622204            New   \n",
              "1                7                 0        13.625307            New   \n",
              "2                7                 0        14.306302            New   \n",
              "3                7                 3        18.709467            New   \n",
              "4                6                 2        16.977482           Good   \n",
              "\n",
              "  Brake_Condition Battery_Status  Need_Maintenance  \n",
              "0             New           Weak                 1  \n",
              "1             New           Weak                 1  \n",
              "2            Good           Weak                 1  \n",
              "3        Worn Out            New                 1  \n",
              "4            Good           Weak                 1  "
            ]
          },
          "execution_count": 3,
          "metadata": {},
          "output_type": "execute_result"
        }
      ],
      "source": [
        "df = pd.read_csv('vehicle_maintenance_data.csv')\n",
        "df.head()"
      ]
    },
    {
      "cell_type": "code",
      "execution_count": null,
      "metadata": {
        "id": "tPQ9TfqzRaFu",
        "outputId": "bb4b0831-5564-4c16-d5a0-4d84ac3638df"
      },
      "outputs": [
        {
          "name": "stdout",
          "output_type": "stream",
          "text": [
            "<class 'pandas.core.frame.DataFrame'>\n",
            "RangeIndex: 50000 entries, 0 to 49999\n",
            "Data columns (total 20 columns):\n",
            " #   Column                Non-Null Count  Dtype  \n",
            "---  ------                --------------  -----  \n",
            " 0   Vehicle_Model         50000 non-null  object \n",
            " 1   Mileage               50000 non-null  int64  \n",
            " 2   Maintenance_History   50000 non-null  object \n",
            " 3   Reported_Issues       50000 non-null  int64  \n",
            " 4   Vehicle_Age           50000 non-null  int64  \n",
            " 5   Fuel_Type             50000 non-null  object \n",
            " 6   Transmission_Type     50000 non-null  object \n",
            " 7   Engine_Size           50000 non-null  int64  \n",
            " 8   Odometer_Reading      50000 non-null  int64  \n",
            " 9   Last_Service_Date     50000 non-null  object \n",
            " 10  Warranty_Expiry_Date  50000 non-null  object \n",
            " 11  Owner_Type            50000 non-null  object \n",
            " 12  Insurance_Premium     50000 non-null  int64  \n",
            " 13  Service_History       50000 non-null  int64  \n",
            " 14  Accident_History      50000 non-null  int64  \n",
            " 15  Fuel_Efficiency       50000 non-null  float64\n",
            " 16  Tire_Condition        50000 non-null  object \n",
            " 17  Brake_Condition       50000 non-null  object \n",
            " 18  Battery_Status        50000 non-null  object \n",
            " 19  Need_Maintenance      50000 non-null  int64  \n",
            "dtypes: float64(1), int64(9), object(10)\n",
            "memory usage: 7.6+ MB\n"
          ]
        }
      ],
      "source": [
        "df.info()"
      ]
    },
    {
      "cell_type": "code",
      "execution_count": null,
      "metadata": {
        "id": "1vu0y914RaFu",
        "outputId": "656c8a96-cf51-4044-8953-8f10234a1250"
      },
      "outputs": [
        {
          "data": {
            "text/html": [
              "<div>\n",
              "<style scoped>\n",
              "    .dataframe tbody tr th:only-of-type {\n",
              "        vertical-align: middle;\n",
              "    }\n",
              "\n",
              "    .dataframe tbody tr th {\n",
              "        vertical-align: top;\n",
              "    }\n",
              "\n",
              "    .dataframe thead th {\n",
              "        text-align: right;\n",
              "    }\n",
              "</style>\n",
              "<table border=\"1\" class=\"dataframe\">\n",
              "  <thead>\n",
              "    <tr style=\"text-align: right;\">\n",
              "      <th></th>\n",
              "      <th>Mileage</th>\n",
              "      <th>Reported_Issues</th>\n",
              "      <th>Vehicle_Age</th>\n",
              "      <th>Engine_Size</th>\n",
              "      <th>Odometer_Reading</th>\n",
              "      <th>Insurance_Premium</th>\n",
              "      <th>Service_History</th>\n",
              "      <th>Accident_History</th>\n",
              "      <th>Fuel_Efficiency</th>\n",
              "      <th>Need_Maintenance</th>\n",
              "    </tr>\n",
              "  </thead>\n",
              "  <tbody>\n",
              "    <tr>\n",
              "      <th>count</th>\n",
              "      <td>50000.000000</td>\n",
              "      <td>50000.000000</td>\n",
              "      <td>50000.000000</td>\n",
              "      <td>50000.000000</td>\n",
              "      <td>50000.000000</td>\n",
              "      <td>50000.000000</td>\n",
              "      <td>50000.000000</td>\n",
              "      <td>50000.00000</td>\n",
              "      <td>50000.000000</td>\n",
              "      <td>50000.000000</td>\n",
              "    </tr>\n",
              "    <tr>\n",
              "      <th>mean</th>\n",
              "      <td>54931.232680</td>\n",
              "      <td>2.497420</td>\n",
              "      <td>5.492260</td>\n",
              "      <td>1556.292000</td>\n",
              "      <td>75551.187060</td>\n",
              "      <td>17465.340700</td>\n",
              "      <td>5.515560</td>\n",
              "      <td>1.50156</td>\n",
              "      <td>14.990323</td>\n",
              "      <td>0.809960</td>\n",
              "    </tr>\n",
              "    <tr>\n",
              "      <th>std</th>\n",
              "      <td>14401.912925</td>\n",
              "      <td>1.708781</td>\n",
              "      <td>2.875682</td>\n",
              "      <td>627.677218</td>\n",
              "      <td>43088.105658</td>\n",
              "      <td>7223.393401</td>\n",
              "      <td>2.874899</td>\n",
              "      <td>1.11951</td>\n",
              "      <td>2.885583</td>\n",
              "      <td>0.392336</td>\n",
              "    </tr>\n",
              "    <tr>\n",
              "      <th>min</th>\n",
              "      <td>30001.000000</td>\n",
              "      <td>0.000000</td>\n",
              "      <td>1.000000</td>\n",
              "      <td>800.000000</td>\n",
              "      <td>1001.000000</td>\n",
              "      <td>5000.000000</td>\n",
              "      <td>1.000000</td>\n",
              "      <td>0.00000</td>\n",
              "      <td>10.000098</td>\n",
              "      <td>0.000000</td>\n",
              "    </tr>\n",
              "    <tr>\n",
              "      <th>25%</th>\n",
              "      <td>42471.500000</td>\n",
              "      <td>1.000000</td>\n",
              "      <td>3.000000</td>\n",
              "      <td>1000.000000</td>\n",
              "      <td>38009.000000</td>\n",
              "      <td>11189.750000</td>\n",
              "      <td>3.000000</td>\n",
              "      <td>0.00000</td>\n",
              "      <td>12.489037</td>\n",
              "      <td>1.000000</td>\n",
              "    </tr>\n",
              "    <tr>\n",
              "      <th>50%</th>\n",
              "      <td>54810.000000</td>\n",
              "      <td>2.000000</td>\n",
              "      <td>5.000000</td>\n",
              "      <td>1500.000000</td>\n",
              "      <td>75598.500000</td>\n",
              "      <td>17477.500000</td>\n",
              "      <td>6.000000</td>\n",
              "      <td>2.00000</td>\n",
              "      <td>14.986352</td>\n",
              "      <td>1.000000</td>\n",
              "    </tr>\n",
              "    <tr>\n",
              "      <th>75%</th>\n",
              "      <td>67391.500000</td>\n",
              "      <td>4.000000</td>\n",
              "      <td>8.000000</td>\n",
              "      <td>2000.000000</td>\n",
              "      <td>112999.500000</td>\n",
              "      <td>23692.000000</td>\n",
              "      <td>8.000000</td>\n",
              "      <td>3.00000</td>\n",
              "      <td>17.474676</td>\n",
              "      <td>1.000000</td>\n",
              "    </tr>\n",
              "    <tr>\n",
              "      <th>max</th>\n",
              "      <td>80000.000000</td>\n",
              "      <td>5.000000</td>\n",
              "      <td>10.000000</td>\n",
              "      <td>2500.000000</td>\n",
              "      <td>149999.000000</td>\n",
              "      <td>30000.000000</td>\n",
              "      <td>10.000000</td>\n",
              "      <td>3.00000</td>\n",
              "      <td>19.999968</td>\n",
              "      <td>1.000000</td>\n",
              "    </tr>\n",
              "  </tbody>\n",
              "</table>\n",
              "</div>"
            ],
            "text/plain": [
              "            Mileage  Reported_Issues   Vehicle_Age   Engine_Size  \\\n",
              "count  50000.000000     50000.000000  50000.000000  50000.000000   \n",
              "mean   54931.232680         2.497420      5.492260   1556.292000   \n",
              "std    14401.912925         1.708781      2.875682    627.677218   \n",
              "min    30001.000000         0.000000      1.000000    800.000000   \n",
              "25%    42471.500000         1.000000      3.000000   1000.000000   \n",
              "50%    54810.000000         2.000000      5.000000   1500.000000   \n",
              "75%    67391.500000         4.000000      8.000000   2000.000000   \n",
              "max    80000.000000         5.000000     10.000000   2500.000000   \n",
              "\n",
              "       Odometer_Reading  Insurance_Premium  Service_History  Accident_History  \\\n",
              "count      50000.000000       50000.000000     50000.000000       50000.00000   \n",
              "mean       75551.187060       17465.340700         5.515560           1.50156   \n",
              "std        43088.105658        7223.393401         2.874899           1.11951   \n",
              "min         1001.000000        5000.000000         1.000000           0.00000   \n",
              "25%        38009.000000       11189.750000         3.000000           0.00000   \n",
              "50%        75598.500000       17477.500000         6.000000           2.00000   \n",
              "75%       112999.500000       23692.000000         8.000000           3.00000   \n",
              "max       149999.000000       30000.000000        10.000000           3.00000   \n",
              "\n",
              "       Fuel_Efficiency  Need_Maintenance  \n",
              "count     50000.000000      50000.000000  \n",
              "mean         14.990323          0.809960  \n",
              "std           2.885583          0.392336  \n",
              "min          10.000098          0.000000  \n",
              "25%          12.489037          1.000000  \n",
              "50%          14.986352          1.000000  \n",
              "75%          17.474676          1.000000  \n",
              "max          19.999968          1.000000  "
            ]
          },
          "execution_count": 4,
          "metadata": {},
          "output_type": "execute_result"
        }
      ],
      "source": [
        "df.describe()"
      ]
    },
    {
      "cell_type": "code",
      "execution_count": null,
      "metadata": {
        "id": "utJOsRmJRaFu"
      },
      "outputs": [],
      "source": [
        "df_truck = df[df['Vehicle_Model']=='Truck']"
      ]
    },
    {
      "cell_type": "code",
      "execution_count": null,
      "metadata": {
        "id": "i6NI4v1YRaFv",
        "outputId": "96271722-6134-4cba-c9e2-b86c32b8656c"
      },
      "outputs": [
        {
          "data": {
            "text/html": [
              "<div>\n",
              "<style scoped>\n",
              "    .dataframe tbody tr th:only-of-type {\n",
              "        vertical-align: middle;\n",
              "    }\n",
              "\n",
              "    .dataframe tbody tr th {\n",
              "        vertical-align: top;\n",
              "    }\n",
              "\n",
              "    .dataframe thead th {\n",
              "        text-align: right;\n",
              "    }\n",
              "</style>\n",
              "<table border=\"1\" class=\"dataframe\">\n",
              "  <thead>\n",
              "    <tr style=\"text-align: right;\">\n",
              "      <th></th>\n",
              "      <th>Vehicle_Model</th>\n",
              "      <th>Mileage</th>\n",
              "      <th>Maintenance_History</th>\n",
              "      <th>Reported_Issues</th>\n",
              "      <th>Vehicle_Age</th>\n",
              "      <th>Fuel_Type</th>\n",
              "      <th>Transmission_Type</th>\n",
              "      <th>Engine_Size</th>\n",
              "      <th>Odometer_Reading</th>\n",
              "      <th>Last_Service_Date</th>\n",
              "      <th>Warranty_Expiry_Date</th>\n",
              "      <th>Owner_Type</th>\n",
              "      <th>Insurance_Premium</th>\n",
              "      <th>Service_History</th>\n",
              "      <th>Accident_History</th>\n",
              "      <th>Fuel_Efficiency</th>\n",
              "      <th>Tire_Condition</th>\n",
              "      <th>Brake_Condition</th>\n",
              "      <th>Battery_Status</th>\n",
              "      <th>Need_Maintenance</th>\n",
              "    </tr>\n",
              "  </thead>\n",
              "  <tbody>\n",
              "    <tr>\n",
              "      <th>0</th>\n",
              "      <td>Truck</td>\n",
              "      <td>58765</td>\n",
              "      <td>Good</td>\n",
              "      <td>0</td>\n",
              "      <td>4</td>\n",
              "      <td>Electric</td>\n",
              "      <td>Automatic</td>\n",
              "      <td>2000</td>\n",
              "      <td>28524</td>\n",
              "      <td>2023-11-23</td>\n",
              "      <td>2025-06-24</td>\n",
              "      <td>Second</td>\n",
              "      <td>20782</td>\n",
              "      <td>6</td>\n",
              "      <td>3</td>\n",
              "      <td>13.622204</td>\n",
              "      <td>New</td>\n",
              "      <td>New</td>\n",
              "      <td>Weak</td>\n",
              "      <td>1</td>\n",
              "    </tr>\n",
              "    <tr>\n",
              "      <th>5</th>\n",
              "      <td>Truck</td>\n",
              "      <td>31653</td>\n",
              "      <td>Average</td>\n",
              "      <td>2</td>\n",
              "      <td>1</td>\n",
              "      <td>Diesel</td>\n",
              "      <td>Automatic</td>\n",
              "      <td>800</td>\n",
              "      <td>70954</td>\n",
              "      <td>2023-08-12</td>\n",
              "      <td>2024-09-05</td>\n",
              "      <td>Third</td>\n",
              "      <td>16813</td>\n",
              "      <td>5</td>\n",
              "      <td>3</td>\n",
              "      <td>15.954422</td>\n",
              "      <td>Worn Out</td>\n",
              "      <td>Good</td>\n",
              "      <td>New</td>\n",
              "      <td>0</td>\n",
              "    </tr>\n",
              "    <tr>\n",
              "      <th>33</th>\n",
              "      <td>Truck</td>\n",
              "      <td>37777</td>\n",
              "      <td>Poor</td>\n",
              "      <td>4</td>\n",
              "      <td>5</td>\n",
              "      <td>Electric</td>\n",
              "      <td>Automatic</td>\n",
              "      <td>800</td>\n",
              "      <td>127740</td>\n",
              "      <td>2023-08-19</td>\n",
              "      <td>2024-05-22</td>\n",
              "      <td>Second</td>\n",
              "      <td>8425</td>\n",
              "      <td>8</td>\n",
              "      <td>3</td>\n",
              "      <td>17.213328</td>\n",
              "      <td>Worn Out</td>\n",
              "      <td>New</td>\n",
              "      <td>Good</td>\n",
              "      <td>1</td>\n",
              "    </tr>\n",
              "    <tr>\n",
              "      <th>35</th>\n",
              "      <td>Truck</td>\n",
              "      <td>55518</td>\n",
              "      <td>Poor</td>\n",
              "      <td>4</td>\n",
              "      <td>8</td>\n",
              "      <td>Diesel</td>\n",
              "      <td>Automatic</td>\n",
              "      <td>2000</td>\n",
              "      <td>19685</td>\n",
              "      <td>2023-12-31</td>\n",
              "      <td>2024-11-19</td>\n",
              "      <td>First</td>\n",
              "      <td>16488</td>\n",
              "      <td>2</td>\n",
              "      <td>3</td>\n",
              "      <td>16.367697</td>\n",
              "      <td>New</td>\n",
              "      <td>Worn Out</td>\n",
              "      <td>Weak</td>\n",
              "      <td>1</td>\n",
              "    </tr>\n",
              "    <tr>\n",
              "      <th>36</th>\n",
              "      <td>Truck</td>\n",
              "      <td>48586</td>\n",
              "      <td>Average</td>\n",
              "      <td>2</td>\n",
              "      <td>10</td>\n",
              "      <td>Diesel</td>\n",
              "      <td>Manual</td>\n",
              "      <td>800</td>\n",
              "      <td>37758</td>\n",
              "      <td>2023-08-31</td>\n",
              "      <td>2025-09-29</td>\n",
              "      <td>Third</td>\n",
              "      <td>22244</td>\n",
              "      <td>10</td>\n",
              "      <td>2</td>\n",
              "      <td>16.369858</td>\n",
              "      <td>Good</td>\n",
              "      <td>Good</td>\n",
              "      <td>New</td>\n",
              "      <td>1</td>\n",
              "    </tr>\n",
              "    <tr>\n",
              "      <th>...</th>\n",
              "      <td>...</td>\n",
              "      <td>...</td>\n",
              "      <td>...</td>\n",
              "      <td>...</td>\n",
              "      <td>...</td>\n",
              "      <td>...</td>\n",
              "      <td>...</td>\n",
              "      <td>...</td>\n",
              "      <td>...</td>\n",
              "      <td>...</td>\n",
              "      <td>...</td>\n",
              "      <td>...</td>\n",
              "      <td>...</td>\n",
              "      <td>...</td>\n",
              "      <td>...</td>\n",
              "      <td>...</td>\n",
              "      <td>...</td>\n",
              "      <td>...</td>\n",
              "      <td>...</td>\n",
              "      <td>...</td>\n",
              "    </tr>\n",
              "    <tr>\n",
              "      <th>49979</th>\n",
              "      <td>Truck</td>\n",
              "      <td>73488</td>\n",
              "      <td>Average</td>\n",
              "      <td>5</td>\n",
              "      <td>10</td>\n",
              "      <td>Petrol</td>\n",
              "      <td>Automatic</td>\n",
              "      <td>2500</td>\n",
              "      <td>92402</td>\n",
              "      <td>2023-06-02</td>\n",
              "      <td>2025-09-27</td>\n",
              "      <td>Second</td>\n",
              "      <td>25464</td>\n",
              "      <td>2</td>\n",
              "      <td>0</td>\n",
              "      <td>13.974331</td>\n",
              "      <td>New</td>\n",
              "      <td>New</td>\n",
              "      <td>Weak</td>\n",
              "      <td>1</td>\n",
              "    </tr>\n",
              "    <tr>\n",
              "      <th>49980</th>\n",
              "      <td>Truck</td>\n",
              "      <td>54205</td>\n",
              "      <td>Good</td>\n",
              "      <td>3</td>\n",
              "      <td>4</td>\n",
              "      <td>Electric</td>\n",
              "      <td>Manual</td>\n",
              "      <td>2500</td>\n",
              "      <td>34461</td>\n",
              "      <td>2023-08-21</td>\n",
              "      <td>2024-12-04</td>\n",
              "      <td>First</td>\n",
              "      <td>26590</td>\n",
              "      <td>5</td>\n",
              "      <td>3</td>\n",
              "      <td>15.778299</td>\n",
              "      <td>Worn Out</td>\n",
              "      <td>Worn Out</td>\n",
              "      <td>Good</td>\n",
              "      <td>1</td>\n",
              "    </tr>\n",
              "    <tr>\n",
              "      <th>49989</th>\n",
              "      <td>Truck</td>\n",
              "      <td>52336</td>\n",
              "      <td>Poor</td>\n",
              "      <td>2</td>\n",
              "      <td>10</td>\n",
              "      <td>Electric</td>\n",
              "      <td>Manual</td>\n",
              "      <td>1500</td>\n",
              "      <td>103989</td>\n",
              "      <td>2023-10-24</td>\n",
              "      <td>2025-12-19</td>\n",
              "      <td>Second</td>\n",
              "      <td>21737</td>\n",
              "      <td>4</td>\n",
              "      <td>2</td>\n",
              "      <td>15.802016</td>\n",
              "      <td>Worn Out</td>\n",
              "      <td>Good</td>\n",
              "      <td>New</td>\n",
              "      <td>1</td>\n",
              "    </tr>\n",
              "    <tr>\n",
              "      <th>49994</th>\n",
              "      <td>Truck</td>\n",
              "      <td>31999</td>\n",
              "      <td>Good</td>\n",
              "      <td>0</td>\n",
              "      <td>10</td>\n",
              "      <td>Petrol</td>\n",
              "      <td>Automatic</td>\n",
              "      <td>2000</td>\n",
              "      <td>40748</td>\n",
              "      <td>2023-07-23</td>\n",
              "      <td>2026-02-22</td>\n",
              "      <td>Third</td>\n",
              "      <td>27947</td>\n",
              "      <td>4</td>\n",
              "      <td>0</td>\n",
              "      <td>10.894066</td>\n",
              "      <td>Worn Out</td>\n",
              "      <td>Worn Out</td>\n",
              "      <td>Good</td>\n",
              "      <td>1</td>\n",
              "    </tr>\n",
              "    <tr>\n",
              "      <th>49996</th>\n",
              "      <td>Truck</td>\n",
              "      <td>54742</td>\n",
              "      <td>Good</td>\n",
              "      <td>4</td>\n",
              "      <td>4</td>\n",
              "      <td>Diesel</td>\n",
              "      <td>Manual</td>\n",
              "      <td>800</td>\n",
              "      <td>13421</td>\n",
              "      <td>2023-07-14</td>\n",
              "      <td>2025-01-21</td>\n",
              "      <td>Second</td>\n",
              "      <td>15856</td>\n",
              "      <td>4</td>\n",
              "      <td>1</td>\n",
              "      <td>14.924022</td>\n",
              "      <td>Worn Out</td>\n",
              "      <td>New</td>\n",
              "      <td>Good</td>\n",
              "      <td>1</td>\n",
              "    </tr>\n",
              "  </tbody>\n",
              "</table>\n",
              "<p>8328 rows × 20 columns</p>\n",
              "</div>"
            ],
            "text/plain": [
              "      Vehicle_Model  Mileage Maintenance_History  Reported_Issues  \\\n",
              "0             Truck    58765                Good                0   \n",
              "5             Truck    31653             Average                2   \n",
              "33            Truck    37777                Poor                4   \n",
              "35            Truck    55518                Poor                4   \n",
              "36            Truck    48586             Average                2   \n",
              "...             ...      ...                 ...              ...   \n",
              "49979         Truck    73488             Average                5   \n",
              "49980         Truck    54205                Good                3   \n",
              "49989         Truck    52336                Poor                2   \n",
              "49994         Truck    31999                Good                0   \n",
              "49996         Truck    54742                Good                4   \n",
              "\n",
              "       Vehicle_Age Fuel_Type Transmission_Type  Engine_Size  Odometer_Reading  \\\n",
              "0                4  Electric         Automatic         2000             28524   \n",
              "5                1    Diesel         Automatic          800             70954   \n",
              "33               5  Electric         Automatic          800            127740   \n",
              "35               8    Diesel         Automatic         2000             19685   \n",
              "36              10    Diesel            Manual          800             37758   \n",
              "...            ...       ...               ...          ...               ...   \n",
              "49979           10    Petrol         Automatic         2500             92402   \n",
              "49980            4  Electric            Manual         2500             34461   \n",
              "49989           10  Electric            Manual         1500            103989   \n",
              "49994           10    Petrol         Automatic         2000             40748   \n",
              "49996            4    Diesel            Manual          800             13421   \n",
              "\n",
              "      Last_Service_Date Warranty_Expiry_Date Owner_Type  Insurance_Premium  \\\n",
              "0            2023-11-23           2025-06-24     Second              20782   \n",
              "5            2023-08-12           2024-09-05      Third              16813   \n",
              "33           2023-08-19           2024-05-22     Second               8425   \n",
              "35           2023-12-31           2024-11-19      First              16488   \n",
              "36           2023-08-31           2025-09-29      Third              22244   \n",
              "...                 ...                  ...        ...                ...   \n",
              "49979        2023-06-02           2025-09-27     Second              25464   \n",
              "49980        2023-08-21           2024-12-04      First              26590   \n",
              "49989        2023-10-24           2025-12-19     Second              21737   \n",
              "49994        2023-07-23           2026-02-22      Third              27947   \n",
              "49996        2023-07-14           2025-01-21     Second              15856   \n",
              "\n",
              "       Service_History  Accident_History  Fuel_Efficiency Tire_Condition  \\\n",
              "0                    6                 3        13.622204            New   \n",
              "5                    5                 3        15.954422       Worn Out   \n",
              "33                   8                 3        17.213328       Worn Out   \n",
              "35                   2                 3        16.367697            New   \n",
              "36                  10                 2        16.369858           Good   \n",
              "...                ...               ...              ...            ...   \n",
              "49979                2                 0        13.974331            New   \n",
              "49980                5                 3        15.778299       Worn Out   \n",
              "49989                4                 2        15.802016       Worn Out   \n",
              "49994                4                 0        10.894066       Worn Out   \n",
              "49996                4                 1        14.924022       Worn Out   \n",
              "\n",
              "      Brake_Condition Battery_Status  Need_Maintenance  \n",
              "0                 New           Weak                 1  \n",
              "5                Good            New                 0  \n",
              "33                New           Good                 1  \n",
              "35           Worn Out           Weak                 1  \n",
              "36               Good            New                 1  \n",
              "...               ...            ...               ...  \n",
              "49979             New           Weak                 1  \n",
              "49980        Worn Out           Good                 1  \n",
              "49989            Good            New                 1  \n",
              "49994        Worn Out           Good                 1  \n",
              "49996             New           Good                 1  \n",
              "\n",
              "[8328 rows x 20 columns]"
            ]
          },
          "execution_count": 6,
          "metadata": {},
          "output_type": "execute_result"
        }
      ],
      "source": [
        "df_truck"
      ]
    },
    {
      "cell_type": "markdown",
      "metadata": {
        "id": "pjcDpuGhRaFv"
      },
      "source": [
        "Dropping Not useful columns"
      ]
    },
    {
      "cell_type": "code",
      "execution_count": null,
      "metadata": {
        "id": "ox9aon_tRaFv"
      },
      "outputs": [],
      "source": [
        "columns_to_drop = [\"Vehicle_Model\", \"Warranty_Expiry_Date\", \"Insurance_Premium\"]\n",
        "for col in columns_to_drop:\n",
        "    df_truck = df_truck.drop(col, axis = 1)"
      ]
    },
    {
      "cell_type": "code",
      "execution_count": null,
      "metadata": {
        "id": "DotSkJiURaFw",
        "outputId": "2d68cb8c-f105-49b4-cddd-1c42968d4f11"
      },
      "outputs": [
        {
          "data": {
            "text/html": [
              "<div>\n",
              "<style scoped>\n",
              "    .dataframe tbody tr th:only-of-type {\n",
              "        vertical-align: middle;\n",
              "    }\n",
              "\n",
              "    .dataframe tbody tr th {\n",
              "        vertical-align: top;\n",
              "    }\n",
              "\n",
              "    .dataframe thead th {\n",
              "        text-align: right;\n",
              "    }\n",
              "</style>\n",
              "<table border=\"1\" class=\"dataframe\">\n",
              "  <thead>\n",
              "    <tr style=\"text-align: right;\">\n",
              "      <th></th>\n",
              "      <th>Mileage</th>\n",
              "      <th>Maintenance_History</th>\n",
              "      <th>Reported_Issues</th>\n",
              "      <th>Vehicle_Age</th>\n",
              "      <th>Fuel_Type</th>\n",
              "      <th>Transmission_Type</th>\n",
              "      <th>Engine_Size</th>\n",
              "      <th>Odometer_Reading</th>\n",
              "      <th>Last_Service_Date</th>\n",
              "      <th>Owner_Type</th>\n",
              "      <th>Service_History</th>\n",
              "      <th>Accident_History</th>\n",
              "      <th>Fuel_Efficiency</th>\n",
              "      <th>Tire_Condition</th>\n",
              "      <th>Brake_Condition</th>\n",
              "      <th>Battery_Status</th>\n",
              "      <th>Need_Maintenance</th>\n",
              "    </tr>\n",
              "  </thead>\n",
              "  <tbody>\n",
              "    <tr>\n",
              "      <th>0</th>\n",
              "      <td>58765</td>\n",
              "      <td>Good</td>\n",
              "      <td>0</td>\n",
              "      <td>4</td>\n",
              "      <td>Electric</td>\n",
              "      <td>Automatic</td>\n",
              "      <td>2000</td>\n",
              "      <td>28524</td>\n",
              "      <td>2023-11-23</td>\n",
              "      <td>Second</td>\n",
              "      <td>6</td>\n",
              "      <td>3</td>\n",
              "      <td>13.622204</td>\n",
              "      <td>New</td>\n",
              "      <td>New</td>\n",
              "      <td>Weak</td>\n",
              "      <td>1</td>\n",
              "    </tr>\n",
              "    <tr>\n",
              "      <th>5</th>\n",
              "      <td>31653</td>\n",
              "      <td>Average</td>\n",
              "      <td>2</td>\n",
              "      <td>1</td>\n",
              "      <td>Diesel</td>\n",
              "      <td>Automatic</td>\n",
              "      <td>800</td>\n",
              "      <td>70954</td>\n",
              "      <td>2023-08-12</td>\n",
              "      <td>Third</td>\n",
              "      <td>5</td>\n",
              "      <td>3</td>\n",
              "      <td>15.954422</td>\n",
              "      <td>Worn Out</td>\n",
              "      <td>Good</td>\n",
              "      <td>New</td>\n",
              "      <td>0</td>\n",
              "    </tr>\n",
              "    <tr>\n",
              "      <th>33</th>\n",
              "      <td>37777</td>\n",
              "      <td>Poor</td>\n",
              "      <td>4</td>\n",
              "      <td>5</td>\n",
              "      <td>Electric</td>\n",
              "      <td>Automatic</td>\n",
              "      <td>800</td>\n",
              "      <td>127740</td>\n",
              "      <td>2023-08-19</td>\n",
              "      <td>Second</td>\n",
              "      <td>8</td>\n",
              "      <td>3</td>\n",
              "      <td>17.213328</td>\n",
              "      <td>Worn Out</td>\n",
              "      <td>New</td>\n",
              "      <td>Good</td>\n",
              "      <td>1</td>\n",
              "    </tr>\n",
              "    <tr>\n",
              "      <th>35</th>\n",
              "      <td>55518</td>\n",
              "      <td>Poor</td>\n",
              "      <td>4</td>\n",
              "      <td>8</td>\n",
              "      <td>Diesel</td>\n",
              "      <td>Automatic</td>\n",
              "      <td>2000</td>\n",
              "      <td>19685</td>\n",
              "      <td>2023-12-31</td>\n",
              "      <td>First</td>\n",
              "      <td>2</td>\n",
              "      <td>3</td>\n",
              "      <td>16.367697</td>\n",
              "      <td>New</td>\n",
              "      <td>Worn Out</td>\n",
              "      <td>Weak</td>\n",
              "      <td>1</td>\n",
              "    </tr>\n",
              "    <tr>\n",
              "      <th>36</th>\n",
              "      <td>48586</td>\n",
              "      <td>Average</td>\n",
              "      <td>2</td>\n",
              "      <td>10</td>\n",
              "      <td>Diesel</td>\n",
              "      <td>Manual</td>\n",
              "      <td>800</td>\n",
              "      <td>37758</td>\n",
              "      <td>2023-08-31</td>\n",
              "      <td>Third</td>\n",
              "      <td>10</td>\n",
              "      <td>2</td>\n",
              "      <td>16.369858</td>\n",
              "      <td>Good</td>\n",
              "      <td>Good</td>\n",
              "      <td>New</td>\n",
              "      <td>1</td>\n",
              "    </tr>\n",
              "  </tbody>\n",
              "</table>\n",
              "</div>"
            ],
            "text/plain": [
              "    Mileage Maintenance_History  Reported_Issues  Vehicle_Age Fuel_Type  \\\n",
              "0     58765                Good                0            4  Electric   \n",
              "5     31653             Average                2            1    Diesel   \n",
              "33    37777                Poor                4            5  Electric   \n",
              "35    55518                Poor                4            8    Diesel   \n",
              "36    48586             Average                2           10    Diesel   \n",
              "\n",
              "   Transmission_Type  Engine_Size  Odometer_Reading Last_Service_Date  \\\n",
              "0          Automatic         2000             28524        2023-11-23   \n",
              "5          Automatic          800             70954        2023-08-12   \n",
              "33         Automatic          800            127740        2023-08-19   \n",
              "35         Automatic         2000             19685        2023-12-31   \n",
              "36            Manual          800             37758        2023-08-31   \n",
              "\n",
              "   Owner_Type  Service_History  Accident_History  Fuel_Efficiency  \\\n",
              "0      Second                6                 3        13.622204   \n",
              "5       Third                5                 3        15.954422   \n",
              "33     Second                8                 3        17.213328   \n",
              "35      First                2                 3        16.367697   \n",
              "36      Third               10                 2        16.369858   \n",
              "\n",
              "   Tire_Condition Brake_Condition Battery_Status  Need_Maintenance  \n",
              "0             New             New           Weak                 1  \n",
              "5        Worn Out            Good            New                 0  \n",
              "33       Worn Out             New           Good                 1  \n",
              "35            New        Worn Out           Weak                 1  \n",
              "36           Good            Good            New                 1  "
            ]
          },
          "execution_count": 8,
          "metadata": {},
          "output_type": "execute_result"
        }
      ],
      "source": [
        "df_truck.head()"
      ]
    },
    {
      "cell_type": "code",
      "execution_count": null,
      "metadata": {
        "id": "F4fNwXXlRaFw"
      },
      "outputs": [],
      "source": [
        "df_truck['Last_Service_Date'] = pd.to_datetime(df['Last_Service_Date'])"
      ]
    },
    {
      "cell_type": "markdown",
      "metadata": {
        "id": "_K-vHXIGRaFw"
      },
      "source": [
        "Checking Missing Values"
      ]
    },
    {
      "cell_type": "code",
      "execution_count": null,
      "metadata": {
        "id": "_Up4p5oeRaFw",
        "outputId": "7f4a4fa6-c769-45fd-8b40-5b8004bfc83c"
      },
      "outputs": [
        {
          "data": {
            "text/plain": [
              "Mileage                0\n",
              "Maintenance_History    0\n",
              "Reported_Issues        0\n",
              "Vehicle_Age            0\n",
              "Fuel_Type              0\n",
              "Transmission_Type      0\n",
              "Engine_Size            0\n",
              "Odometer_Reading       0\n",
              "Last_Service_Date      0\n",
              "Owner_Type             0\n",
              "Service_History        0\n",
              "Accident_History       0\n",
              "Fuel_Efficiency        0\n",
              "Tire_Condition         0\n",
              "Brake_Condition        0\n",
              "Battery_Status         0\n",
              "Need_Maintenance       0\n",
              "dtype: int64"
            ]
          },
          "execution_count": 10,
          "metadata": {},
          "output_type": "execute_result"
        }
      ],
      "source": [
        "df_truck.isnull().sum()"
      ]
    },
    {
      "cell_type": "code",
      "execution_count": null,
      "metadata": {
        "id": "70r8MabvRaFx"
      },
      "outputs": [],
      "source": [
        "columns_to_encode = [\"Maintenance_History\", \"Fuel_Type\", \"Transmission_Type\", \"Owner_Type\", \"Tire_Condition\", \"Brake_Condition\", \"Battery_Status\"]"
      ]
    },
    {
      "cell_type": "code",
      "execution_count": null,
      "metadata": {
        "id": "_bAKpl3lRaFx",
        "outputId": "c7395050-292d-4fe6-b9a7-b708229c61be"
      },
      "outputs": [
        {
          "data": {
            "text/plain": [
              "(8328, 17)"
            ]
          },
          "execution_count": 13,
          "metadata": {},
          "output_type": "execute_result"
        }
      ],
      "source": [
        "label = LabelEncoder()\n",
        "df_test = df_truck\n",
        "df_test.shape"
      ]
    },
    {
      "cell_type": "markdown",
      "metadata": {
        "id": "wn49KDf2RaFx"
      },
      "source": [
        "Converting Categorical to Numerical"
      ]
    },
    {
      "cell_type": "code",
      "execution_count": null,
      "metadata": {
        "id": "s8-xF38CRaFx"
      },
      "outputs": [],
      "source": [
        "df_test['Maintenance_History'] = label.fit_transform(df_test['Maintenance_History'])\n",
        "df_test['Fuel_Type'] = label.fit_transform(df_test['Fuel_Type'])\n",
        "df_test['Transmission_Type'] = label.fit_transform(df_test['Transmission_Type'])\n",
        "df_test['Owner_Type'] = label.fit_transform(df_test['Owner_Type'])\n",
        "df_test['Tire_Condition'] = label.fit_transform(df_test['Tire_Condition'])\n",
        "df_test['Brake_Condition'] = label.fit_transform(df_test['Brake_Condition'])\n",
        "df_test['Battery_Status'] = label.fit_transform(df_test['Battery_Status'])"
      ]
    },
    {
      "cell_type": "code",
      "execution_count": null,
      "metadata": {
        "id": "ebiv1eTfRaFx"
      },
      "outputs": [],
      "source": [
        "df_test['current_date'] = '2024-05-08'"
      ]
    },
    {
      "cell_type": "code",
      "execution_count": null,
      "metadata": {
        "id": "5Tc8b7SpRaFx"
      },
      "outputs": [],
      "source": [
        "df['current_date'] = pd.to_datetime(df_test['current_date'])"
      ]
    },
    {
      "cell_type": "markdown",
      "metadata": {
        "id": "cK2KQpahRaFy"
      },
      "source": [
        "Feature Engineering\n",
        "\n",
        "-Created a new column Days since last serviced"
      ]
    },
    {
      "cell_type": "code",
      "execution_count": null,
      "metadata": {
        "id": "kEoGHXQARaFy"
      },
      "outputs": [],
      "source": [
        "df_test[['Last_Service_Date','current_date']] = df[['Last_Service_Date','current_date']].apply(pd.to_datetime)\n",
        "df_test['Days_since_last_service'] = (df_test['current_date'] - df_test['Last_Service_Date']).dt.days"
      ]
    },
    {
      "cell_type": "code",
      "execution_count": null,
      "metadata": {
        "id": "bwv-yc4cRaFy"
      },
      "outputs": [],
      "source": [
        "new_drop = [\"Last_Service_Date\", \"current_date\"]\n",
        "for col in new_drop:\n",
        "    df_test= df_test.drop(col, axis=1)"
      ]
    },
    {
      "cell_type": "code",
      "execution_count": null,
      "metadata": {
        "id": "Bs8XVVfxRaFy",
        "outputId": "534ee8a6-55fa-4289-9131-976fe344b829"
      },
      "outputs": [
        {
          "data": {
            "text/html": [
              "<div>\n",
              "<style scoped>\n",
              "    .dataframe tbody tr th:only-of-type {\n",
              "        vertical-align: middle;\n",
              "    }\n",
              "\n",
              "    .dataframe tbody tr th {\n",
              "        vertical-align: top;\n",
              "    }\n",
              "\n",
              "    .dataframe thead th {\n",
              "        text-align: right;\n",
              "    }\n",
              "</style>\n",
              "<table border=\"1\" class=\"dataframe\">\n",
              "  <thead>\n",
              "    <tr style=\"text-align: right;\">\n",
              "      <th></th>\n",
              "      <th>Mileage</th>\n",
              "      <th>Maintenance_History</th>\n",
              "      <th>Reported_Issues</th>\n",
              "      <th>Vehicle_Age</th>\n",
              "      <th>Fuel_Type</th>\n",
              "      <th>Transmission_Type</th>\n",
              "      <th>Engine_Size</th>\n",
              "      <th>Odometer_Reading</th>\n",
              "      <th>Owner_Type</th>\n",
              "      <th>Service_History</th>\n",
              "      <th>Accident_History</th>\n",
              "      <th>Fuel_Efficiency</th>\n",
              "      <th>Tire_Condition</th>\n",
              "      <th>Brake_Condition</th>\n",
              "      <th>Battery_Status</th>\n",
              "      <th>Need_Maintenance</th>\n",
              "      <th>Days_since_last_service</th>\n",
              "    </tr>\n",
              "  </thead>\n",
              "  <tbody>\n",
              "    <tr>\n",
              "      <th>0</th>\n",
              "      <td>58765</td>\n",
              "      <td>1</td>\n",
              "      <td>0</td>\n",
              "      <td>4</td>\n",
              "      <td>1</td>\n",
              "      <td>0</td>\n",
              "      <td>2000</td>\n",
              "      <td>28524</td>\n",
              "      <td>1</td>\n",
              "      <td>6</td>\n",
              "      <td>3</td>\n",
              "      <td>13.622204</td>\n",
              "      <td>1</td>\n",
              "      <td>1</td>\n",
              "      <td>2</td>\n",
              "      <td>1</td>\n",
              "      <td>167</td>\n",
              "    </tr>\n",
              "    <tr>\n",
              "      <th>5</th>\n",
              "      <td>31653</td>\n",
              "      <td>0</td>\n",
              "      <td>2</td>\n",
              "      <td>1</td>\n",
              "      <td>0</td>\n",
              "      <td>0</td>\n",
              "      <td>800</td>\n",
              "      <td>70954</td>\n",
              "      <td>2</td>\n",
              "      <td>5</td>\n",
              "      <td>3</td>\n",
              "      <td>15.954422</td>\n",
              "      <td>2</td>\n",
              "      <td>0</td>\n",
              "      <td>1</td>\n",
              "      <td>0</td>\n",
              "      <td>270</td>\n",
              "    </tr>\n",
              "    <tr>\n",
              "      <th>33</th>\n",
              "      <td>37777</td>\n",
              "      <td>2</td>\n",
              "      <td>4</td>\n",
              "      <td>5</td>\n",
              "      <td>1</td>\n",
              "      <td>0</td>\n",
              "      <td>800</td>\n",
              "      <td>127740</td>\n",
              "      <td>1</td>\n",
              "      <td>8</td>\n",
              "      <td>3</td>\n",
              "      <td>17.213328</td>\n",
              "      <td>2</td>\n",
              "      <td>1</td>\n",
              "      <td>0</td>\n",
              "      <td>1</td>\n",
              "      <td>263</td>\n",
              "    </tr>\n",
              "    <tr>\n",
              "      <th>35</th>\n",
              "      <td>55518</td>\n",
              "      <td>2</td>\n",
              "      <td>4</td>\n",
              "      <td>8</td>\n",
              "      <td>0</td>\n",
              "      <td>0</td>\n",
              "      <td>2000</td>\n",
              "      <td>19685</td>\n",
              "      <td>0</td>\n",
              "      <td>2</td>\n",
              "      <td>3</td>\n",
              "      <td>16.367697</td>\n",
              "      <td>1</td>\n",
              "      <td>2</td>\n",
              "      <td>2</td>\n",
              "      <td>1</td>\n",
              "      <td>129</td>\n",
              "    </tr>\n",
              "    <tr>\n",
              "      <th>36</th>\n",
              "      <td>48586</td>\n",
              "      <td>0</td>\n",
              "      <td>2</td>\n",
              "      <td>10</td>\n",
              "      <td>0</td>\n",
              "      <td>1</td>\n",
              "      <td>800</td>\n",
              "      <td>37758</td>\n",
              "      <td>2</td>\n",
              "      <td>10</td>\n",
              "      <td>2</td>\n",
              "      <td>16.369858</td>\n",
              "      <td>0</td>\n",
              "      <td>0</td>\n",
              "      <td>1</td>\n",
              "      <td>1</td>\n",
              "      <td>251</td>\n",
              "    </tr>\n",
              "  </tbody>\n",
              "</table>\n",
              "</div>"
            ],
            "text/plain": [
              "    Mileage  Maintenance_History  Reported_Issues  Vehicle_Age  Fuel_Type  \\\n",
              "0     58765                    1                0            4          1   \n",
              "5     31653                    0                2            1          0   \n",
              "33    37777                    2                4            5          1   \n",
              "35    55518                    2                4            8          0   \n",
              "36    48586                    0                2           10          0   \n",
              "\n",
              "    Transmission_Type  Engine_Size  Odometer_Reading  Owner_Type  \\\n",
              "0                   0         2000             28524           1   \n",
              "5                   0          800             70954           2   \n",
              "33                  0          800            127740           1   \n",
              "35                  0         2000             19685           0   \n",
              "36                  1          800             37758           2   \n",
              "\n",
              "    Service_History  Accident_History  Fuel_Efficiency  Tire_Condition  \\\n",
              "0                 6                 3        13.622204               1   \n",
              "5                 5                 3        15.954422               2   \n",
              "33                8                 3        17.213328               2   \n",
              "35                2                 3        16.367697               1   \n",
              "36               10                 2        16.369858               0   \n",
              "\n",
              "    Brake_Condition  Battery_Status  Need_Maintenance  Days_since_last_service  \n",
              "0                 1               2                 1                      167  \n",
              "5                 0               1                 0                      270  \n",
              "33                1               0                 1                      263  \n",
              "35                2               2                 1                      129  \n",
              "36                0               1                 1                      251  "
            ]
          },
          "execution_count": 19,
          "metadata": {},
          "output_type": "execute_result"
        }
      ],
      "source": [
        "df_test.head()"
      ]
    },
    {
      "cell_type": "code",
      "execution_count": null,
      "metadata": {
        "id": "PsYpbBlTRaFy"
      },
      "outputs": [],
      "source": [
        "Y = df_test['Need_Maintenance']\n",
        "X = df_test.drop('Need_Maintenance', axis=1)"
      ]
    },
    {
      "cell_type": "markdown",
      "metadata": {
        "id": "9-SEszB2RaFy"
      },
      "source": [
        "Normalization"
      ]
    },
    {
      "cell_type": "code",
      "execution_count": null,
      "metadata": {
        "id": "jZ5db4QGRaFy"
      },
      "outputs": [],
      "source": [
        "scaler = MinMaxScaler()\n",
        "X = scaler.fit_transform(X)"
      ]
    },
    {
      "cell_type": "markdown",
      "metadata": {
        "id": "KozJimq7RaFz"
      },
      "source": [
        "Splitting the dataset"
      ]
    },
    {
      "cell_type": "code",
      "execution_count": null,
      "metadata": {
        "id": "ne4QRY2ORaFz"
      },
      "outputs": [],
      "source": [
        "from sklearn.model_selection import train_test_split\n",
        "\n",
        "X_train, X_test, y_train, y_test = train_test_split(X, Y, test_size=0.2, random_state=42)"
      ]
    },
    {
      "cell_type": "markdown",
      "metadata": {
        "id": "_eIz-ekDRaFz"
      },
      "source": [
        "Logistic Regression"
      ]
    },
    {
      "cell_type": "code",
      "execution_count": null,
      "metadata": {
        "id": "DdtW_uvBRaFz"
      },
      "outputs": [],
      "source": [
        "logreg = LogisticRegression()\n",
        "logreg.fit(X_train, y_train)\n",
        "y_pred = logreg.predict(X_test)"
      ]
    },
    {
      "cell_type": "markdown",
      "metadata": {
        "id": "_sdgS14-RaFz"
      },
      "source": [
        "Score reports for Logistics Regression"
      ]
    },
    {
      "cell_type": "code",
      "execution_count": null,
      "metadata": {
        "id": "EAtnS1BrRaFz",
        "outputId": "bc3f2374-86cc-457f-b203-5ddaeca4b15a"
      },
      "outputs": [
        {
          "name": "stdout",
          "output_type": "stream",
          "text": [
            "ACCURACY: 0.8871548619447779\n",
            "\n",
            "\n",
            "\n",
            "[[ 190   55]\n",
            " [ 133 1288]]\n",
            "\n",
            "\n",
            "\n",
            "              precision    recall  f1-score   support\n",
            "\n",
            "           0       0.59      0.78      0.67       245\n",
            "           1       0.96      0.91      0.93      1421\n",
            "\n",
            "    accuracy                           0.89      1666\n",
            "   macro avg       0.77      0.84      0.80      1666\n",
            "weighted avg       0.90      0.89      0.89      1666\n",
            "\n"
          ]
        }
      ],
      "source": [
        "print(\"ACCURACY:\", accuracy_score(y_pred, y_test))\n",
        "print(\"\\n\\n\")\n",
        "print(confusion_matrix(y_pred, y_test))\n",
        "print(\"\\n\\n\")\n",
        "print(classification_report(y_pred, y_test))"
      ]
    },
    {
      "cell_type": "markdown",
      "metadata": {
        "id": "Ct-zzg07RaFz"
      },
      "source": [
        "Random Forest"
      ]
    },
    {
      "cell_type": "code",
      "execution_count": null,
      "metadata": {
        "id": "RCWBOodIRaF0"
      },
      "outputs": [],
      "source": [
        "rf = RandomForestClassifier(n_estimators=100, random_state=42)\n",
        "rf.fit(X_train, y_train)\n",
        "y_pred_2 = logreg.predict(X_test)"
      ]
    },
    {
      "cell_type": "markdown",
      "metadata": {
        "id": "77G5lcTHRaF0"
      },
      "source": [
        "Score reports for Random Forest\n"
      ]
    },
    {
      "cell_type": "code",
      "execution_count": null,
      "metadata": {
        "id": "Tplo2WCPRaF0",
        "outputId": "f73896cf-2098-4b90-d9fb-997a7614b85f"
      },
      "outputs": [
        {
          "name": "stdout",
          "output_type": "stream",
          "text": [
            "ACCURACY: 0.8871548619447779\n",
            "\n",
            "\n",
            "\n",
            "[[ 190   55]\n",
            " [ 133 1288]]\n",
            "\n",
            "\n",
            "\n",
            "              precision    recall  f1-score   support\n",
            "\n",
            "           0       0.59      0.78      0.67       245\n",
            "           1       0.96      0.91      0.93      1421\n",
            "\n",
            "    accuracy                           0.89      1666\n",
            "   macro avg       0.77      0.84      0.80      1666\n",
            "weighted avg       0.90      0.89      0.89      1666\n",
            "\n"
          ]
        }
      ],
      "source": [
        "print(\"ACCURACY:\", accuracy_score(y_pred_2, y_test))\n",
        "print(\"\\n\\n\")\n",
        "print(confusion_matrix(y_pred_2, y_test))\n",
        "print(\"\\n\\n\")\n",
        "print(classification_report(y_pred_2, y_test))"
      ]
    },
    {
      "cell_type": "markdown",
      "metadata": {
        "id": "txWIQGSkRaF0"
      },
      "source": [
        "Cross-Validation"
      ]
    },
    {
      "cell_type": "code",
      "execution_count": null,
      "metadata": {
        "id": "l36vxTrsRaF0",
        "outputId": "77064df9-58cf-47e8-9310-13ed8adb9ff0"
      },
      "outputs": [
        {
          "name": "stdout",
          "output_type": "stream",
          "text": [
            "0.9867947178871549\n",
            "0.9918759231905465\n"
          ]
        }
      ],
      "source": [
        "from sklearn.metrics import f1_score\n",
        "y_pred_3 = cross_val_predict(rf, X_test, y_test, cv=10)\n",
        "\n",
        "print(accuracy_score(y_pred_3,y_test))\n",
        "print(f1_score(y_pred_3, y_test))"
      ]
    },
    {
      "cell_type": "markdown",
      "metadata": {
        "id": "emumUHQ7RaF1"
      },
      "source": [
        "Plotting Feature Importance"
      ]
    },
    {
      "cell_type": "code",
      "execution_count": null,
      "metadata": {
        "id": "lptoWZLORaF1",
        "outputId": "22e0e9f5-2913-4e18-d411-a33f5091a467"
      },
      "outputs": [
        {
          "data": {
            "image/png": "[encoded data removed]",
            "text/plain": [
              "<Figure size 640x480 with 1 Axes>"
            ]
          },
          "metadata": {},
          "output_type": "display_data"
        }
      ],
      "source": [
        "features = df_test.columns\n",
        "importances = rf.feature_importances_\n",
        "indices = np.argsort(importances)\n",
        "plt.title('Feature Importances')\n",
        "plt.barh(range(len(indices)), importances[indices], color='b', align='center')\n",
        "plt.yticks(range(len(indices)), [features[i] for i in indices])\n",
        "plt.xlabel('Relative Importance')\n",
        "plt.show()"
      ]
    },
    {
      "cell_type": "code",
      "execution_count": null,
      "metadata": {
        "id": "dQ14hNksRaF1",
        "outputId": "ced7924c-8a82-40ad-994b-83cb50c3e16d"
      },
      "outputs": [
        {
          "name": "stdout",
          "output_type": "stream",
          "text": [
            "[1 1 1 ... 1 1 1]\n",
            "[1 1 1 ... 1 1 1]\n"
          ]
        }
      ],
      "source": [
        "print(y_test)\n",
        "print(y_pred)"
      ]
    },
    {
      "cell_type": "markdown",
      "metadata": {
        "id": "xCpmfxuwRaF1"
      },
      "source": [
        "Local Deployment"
      ]
    },
    {
      "cell_type": "code",
      "execution_count": null,
      "metadata": {
        "id": "RW1pfvhSRaF1"
      },
      "outputs": [],
      "source": [
        "from flask import Flask, request, render_template, jsonify"
      ]
    },
    {
      "cell_type": "code",
      "execution_count": null,
      "metadata": {
        "id": "4ySUIBuqRaF1",
        "outputId": "54d7c884-f1d0-49b7-ffd4-c0af411d1370"
      },
      "outputs": [
        {
          "name": "stdout",
          "output_type": "stream",
          "text": [
            " * Serving Flask app '__main__'\n",
            " * Debug mode: off\n"
          ]
        },
        {
          "name": "stderr",
          "output_type": "stream",
          "text": [
            "WARNING: This is a development server. Do not use it in a production deployment. Use a production WSGI server instead.\n",
            " * Running on http://127.0.0.1:5000\n",
            "Press CTRL+C to quit\n",
            "127.0.0.1 - - [08/May/2024 15:30:34] \"GET / HTTP/1.1\" 200 -\n",
            "127.0.0.1 - - [08/May/2024 15:32:11] \"POST /predict HTTP/1.1\" 400 -\n"
          ]
        }
      ],
      "source": [
        "application = Flask(__name__)\n",
        "app = application\n",
        "\n",
        "@app.route('/')\n",
        "def index():\n",
        "    return render_template('index.html')\n",
        "\n",
        "@app.route('/predict', methods=['POST'])\n",
        "def maintenance():\n",
        "        features = [request.form.get(f, type=float) for f in [\n",
        "            'mileage', 'maintenanceHistory', 'reportedIssues', 'vehicleAge', 'fuelType',\n",
        "            'transmissionType', 'engineSize', 'odometerReading', 'ownerType', 'serviceHistory',\n",
        "            'accidentHistory', 'fuelEfficiency', 'tireCondition', 'brakeCondition',\n",
        "            'batteryStatus', 'daysSinceLastService'\n",
        "        ]]\n",
        "        feature_array = np.array(features).reshape(1, -1)\n",
        "        feature_array = label.transform(feauture_array)\n",
        "        feature_array = scaler.transform(feature_array)\n",
        "        prediction = rf.predict([feature_array])[0]\n",
        "        return render_template('index.html', prediction=prediction)\n",
        "\n",
        "if __name__ == '__main__':\n",
        "    app.run()"
      ]
    }
  ],
  "metadata": {
    "kernelspec": {
      "display_name": "envAI",
      "language": "python",
      "name": "python3"
    },
    "language_info": {
      "codemirror_mode": {
        "name": "ipython",
        "version": 3
      },
      "file_extension": ".py",
      "mimetype": "text/x-python",
      "name": "python",
      "nbconvert_exporter": "python",
      "pygments_lexer": "ipython3",
      "version": "3.10.14"
    },
    "colab": {
      "provenance": []
    }
  },
  "nbformat": 4,
  "nbformat_minor": 0
}